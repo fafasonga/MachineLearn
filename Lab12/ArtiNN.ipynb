{
 "cells": [
  {
   "cell_type": "markdown",
   "metadata": {},
   "source": [
    "# SONGA MUGABE Fabrice"
   ]
  },
  {
   "cell_type": "code",
   "execution_count": 2,
   "metadata": {},
   "outputs": [
    {
     "name": "stderr",
     "output_type": "stream",
     "text": [
      "/Users/admin/anaconda3/lib/python3.6/site-packages/h5py/__init__.py:34: FutureWarning: Conversion of the second argument of issubdtype from `float` to `np.floating` is deprecated. In future, it will be treated as `np.float64 == np.dtype(float).type`.\n",
      "  from ._conv import register_converters as _register_converters\n"
     ]
    }
   ],
   "source": [
    "import matplotlib.pyplot as plt\n",
    "import numpy as np\n",
    "import tensorflow as tf\n",
    "from utils import load_data, train_test_split\n",
    "from sklearn.metrics import f1_score\n",
    "from sklearn import metrics\n",
    "from sklearn.neighbors import KNeighborsClassifier"
   ]
  },
  {
   "cell_type": "code",
   "execution_count": 3,
   "metadata": {},
   "outputs": [],
   "source": [
    "    # Start session\n",
    "sess = tf.Session()"
   ]
  },
  {
   "cell_type": "code",
   "execution_count": 4,
   "metadata": {},
   "outputs": [],
   "source": [
    "x_vals, y_vals = load_data(\"mnist_small.csv\", has_header=False)\n",
    "y_vals = np.where(y_vals < 5, 0, 1)"
   ]
  },
  {
   "cell_type": "code",
   "execution_count": 5,
   "metadata": {},
   "outputs": [],
   "source": [
    "x_train, y_train, x_test, y_test = train_test_split(x_vals, y_vals, 0.8)"
   ]
  },
  {
   "cell_type": "code",
   "execution_count": 6,
   "metadata": {},
   "outputs": [],
   "source": [
    "    # Parameters\n",
    "learning_rate = 0.01\n",
    "x_size, num_feature = x_vals.shape      # MNIST data input (img shape: 28*28)\n",
    "num_classes = 1                        # MNIST total classes (0-9 digits)\n",
    "num_steps = 500\n",
    "n_hidden_1 = 100                      # 1st layer number of neurons\n",
    "n_hidden_2 = 100                     # 2nd layer number of neurons"
   ]
  },
  {
   "cell_type": "code",
   "execution_count": 7,
   "metadata": {},
   "outputs": [],
   "source": [
    "    # tf Graph input\n",
    "X = tf.placeholder(tf.float32, shape=[None, num_feature], name=\"x-input\")\n",
    "Y = tf.placeholder(tf.float32, shape=[None, num_classes], name=\"y-input\")"
   ]
  },
  {
   "cell_type": "code",
   "execution_count": 10,
   "metadata": {},
   "outputs": [],
   "source": [
    "Y = tf.cast(Y, tf.float32)"
   ]
  },
  {
   "cell_type": "code",
   "execution_count": 11,
   "metadata": {},
   "outputs": [],
   "source": [
    "    # Hidden fully connected layer with 100 neurons\n",
    "layer = tf.layers.dense(inputs=X, units=n_hidden_1, activation=tf.nn.sigmoid)"
   ]
  },
  {
   "cell_type": "code",
   "execution_count": 12,
   "metadata": {},
   "outputs": [],
   "source": [
    "    # Output fully connected layer with a neuron for each class\n",
    "layer_out = tf.layers.dense(inputs=layer, units=1)"
   ]
  },
  {
   "cell_type": "code",
   "execution_count": 114,
   "metadata": {},
   "outputs": [
    {
     "name": "stdout",
     "output_type": "stream",
     "text": [
      "Tensor(\"Cross_Entropy_8:0\", shape=(?, 1), dtype=float32)\n"
     ]
    }
   ],
   "source": [
    "cross_entropy = tf.nn.sigmoid_cross_entropy_with_logits(logits=layer_out, labels=Y, name='Cross_Entropy')\n",
    "print(cross_entropy)"
   ]
  },
  {
   "cell_type": "code",
   "execution_count": 115,
   "metadata": {},
   "outputs": [
    {
     "name": "stdout",
     "output_type": "stream",
     "text": [
      "Tensor(\"Loss_8:0\", shape=(), dtype=float32)\n"
     ]
    }
   ],
   "source": [
    "loss = tf.reduce_mean(cross_entropy, name='Loss')\n",
    "print(loss)"
   ]
  },
  {
   "cell_type": "code",
   "execution_count": 116,
   "metadata": {},
   "outputs": [
    {
     "name": "stdout",
     "output_type": "stream",
     "text": [
      "Tensor(\"Round_8:0\", shape=(?, 1), dtype=float32)\n"
     ]
    }
   ],
   "source": [
    "prediction = tf.round(tf.nn.sigmoid(layer_out))\n",
    "print(prediction)"
   ]
  },
  {
   "cell_type": "code",
   "execution_count": 117,
   "metadata": {},
   "outputs": [],
   "source": [
    "    # add an optimiser\n",
    "optimiser = tf.train.GradientDescentOptimizer(learning_rate=learning_rate).minimize(loss)"
   ]
  },
  {
   "cell_type": "code",
   "execution_count": 118,
   "metadata": {},
   "outputs": [
    {
     "name": "stdout",
     "output_type": "stream",
     "text": [
      "F1 test:  0.6206896551724138\n",
      "F1 train:  0.9324324324324325\n"
     ]
    },
    {
     "data": {
      "image/png": "[encoded data removed]",
      "text/plain": [
       "<matplotlib.figure.Figure at 0x1a1791f8d0>"
      ]
     },
     "metadata": {},
     "output_type": "display_data"
    }
   ],
   "source": [
    "with tf.Session() as sess:\n",
    "    sess.run(tf.initialize_all_variables())\n",
    "    arr_loss = []\n",
    "    for i in range(num_steps):\n",
    "        sess.run(optimiser, feed_dict={X: x_train, Y: y_train})\n",
    "        val = sess.run(loss, feed_dict={X: x_train, Y: y_train})\n",
    "        arr_loss.append(val)\n",
    "        predictions = sess.run(prediction, feed_dict={X: x_test})\n",
    "        predictions_train = sess.run(prediction, feed_dict={X: x_train})\n",
    "\n",
    "    print('F1 test: ', f1_score(y_true=y_test, y_pred=predictions))\n",
    "    print('F1 train: ', f1_score(y_true=y_train, y_pred=predictions_train))\n",
    "\n",
    "    plt.plot(arr_loss)\n",
    "    plt.show()"
   ]
  },
  {
   "cell_type": "code",
   "execution_count": null,
   "metadata": {},
   "outputs": [],
   "source": []
  },
  {
   "cell_type": "code",
   "execution_count": 119,
   "metadata": {},
   "outputs": [],
   "source": [
    "# Creating model Network\n",
    "def neural_netwk(x):    \n",
    "    # Hidden fully connected layer with 100 neurons\n",
    "    layer_1 = tf.layers.dense(x, n_hidden_1, activation=tf.nn.sigmoid)\n",
    "    # Hidden fully connected layer with 100 neurons\n",
    "    layer_2 = tf.layers.dense(layer_1, n_hidden_2, activation=tf.nn.sigmoid)\n",
    "    # Output fully connected layer with a neuron for each class\n",
    "    out_layer = tf.layers.dense(layer_2, num_classes, activation=tf.nn.sigmoid)\n",
    "    return out_layer"
   ]
  },
  {
   "cell_type": "code",
   "execution_count": 120,
   "metadata": {},
   "outputs": [],
   "source": [
    "logit = neural_netwk(X)"
   ]
  },
  {
   "cell_type": "code",
   "execution_count": 121,
   "metadata": {},
   "outputs": [
    {
     "name": "stdout",
     "output_type": "stream",
     "text": [
      "Tensor(\"Cross_Entropy_9:0\", shape=(?, 1), dtype=float32)\n"
     ]
    }
   ],
   "source": [
    "cross_entropy = tf.nn.sigmoid_cross_entropy_with_logits(logits=logit, labels=Y, name='Cross_Entropy')\n",
    "print(cross_entropy)"
   ]
  },
  {
   "cell_type": "code",
   "execution_count": 122,
   "metadata": {},
   "outputs": [
    {
     "name": "stdout",
     "output_type": "stream",
     "text": [
      "Tensor(\"Loss_9:0\", shape=(), dtype=float32)\n"
     ]
    }
   ],
   "source": [
    "loss = tf.reduce_mean(cross_entropy, name='Loss')\n",
    "print(loss)"
   ]
  },
  {
   "cell_type": "code",
   "execution_count": 123,
   "metadata": {},
   "outputs": [
    {
     "name": "stdout",
     "output_type": "stream",
     "text": [
      "Tensor(\"Round_9:0\", shape=(?, 1), dtype=float32)\n"
     ]
    }
   ],
   "source": [
    "prediction = tf.round(tf.nn.sigmoid(logit))\n",
    "print(prediction)"
   ]
  },
  {
   "cell_type": "code",
   "execution_count": 124,
   "metadata": {},
   "outputs": [],
   "source": [
    "# add an optimiser\n",
    "optimiser = tf.train.GradientDescentOptimizer(learning_rate=learning_rate).minimize(loss)"
   ]
  },
  {
   "cell_type": "code",
   "execution_count": 125,
   "metadata": {},
   "outputs": [
    {
     "name": "stdout",
     "output_type": "stream",
     "text": [
      "F1 test:  0.5454545454545454\n",
      "F1 train:  0.6440677966101694\n"
     ]
    },
    {
     "data": {
      "image/png": "[encoded data removed]",
      "text/plain": [
       "<matplotlib.figure.Figure at 0x1a1793fc18>"
      ]
     },
     "metadata": {},
     "output_type": "display_data"
    }
   ],
   "source": [
    "with tf.Session() as sess:\n",
    "    sess.run(tf.initialize_all_variables())\n",
    "    arr_loss = []\n",
    "    for i in range(num_steps):\n",
    "        sess.run(optimiser, feed_dict={X: x_train, Y: y_train})\n",
    "        val = sess.run(loss, feed_dict={X: x_train, Y: y_train})\n",
    "        arr_loss.append(val)\n",
    "        predictions = sess.run(prediction, feed_dict={X: x_test})\n",
    "        predictions_train = sess.run(prediction, feed_dict={X: x_train})\n",
    "\n",
    "    print('F1 test: ', f1_score(y_true=y_test, y_pred=predictions))\n",
    "    print('F1 train: ', f1_score(y_true=y_train, y_pred=predictions_train))\n",
    "\n",
    "    plt.plot(arr_loss)\n",
    "    plt.show()"
   ]
  },
  {
   "cell_type": "code",
   "execution_count": null,
   "metadata": {},
   "outputs": [],
   "source": []
  },
  {
   "cell_type": "code",
   "execution_count": 126,
   "metadata": {},
   "outputs": [
    {
     "name": "stdout",
     "output_type": "stream",
     "text": [
      "F1 test:  0.9285714285714286\n",
      "F1 train:  0.9281045751633986\n"
     ]
    },
    {
     "name": "stderr",
     "output_type": "stream",
     "text": [
      "/Users/admin/anaconda3/lib/python3.6/site-packages/ipykernel_launcher.py:4: DataConversionWarning: A column-vector y was passed when a 1d array was expected. Please change the shape of y to (n_samples, ), for example using ravel().\n",
      "  after removing the cwd from sys.path.\n"
     ]
    }
   ],
   "source": [
    "with tf.Session() as sess:\n",
    "    sess.run(tf.initialize_all_variables())\n",
    "    knn = KNeighborsClassifier()\n",
    "    knn.fit(x_train, y_train)\n",
    "    knn_pred = knn.predict(x_test)\n",
    "    knn_pred_tr = knn.predict(x_train)\n",
    "    predictions = sess.run(prediction, feed_dict={X: x_test})\n",
    "\n",
    "    print('F1 test: ', f1_score(y_true=y_test, y_pred=knn_pred))\n",
    "    print('F1 train: ', f1_score(y_true=y_train, y_pred=knn_pred_tr))\n",
    "    "
   ]
  },
  {
   "cell_type": "code",
   "execution_count": null,
   "metadata": {},
   "outputs": [],
   "source": []
  }
 ],
 "metadata": {
  "kernelspec": {
   "display_name": "Python 3",
   "language": "python",
   "name": "python3"
  },
  "language_info": {
   "codemirror_mode": {
    "name": "ipython",
    "version": 3
   },
   "file_extension": ".py",
   "mimetype": "text/x-python",
   "name": "python",
   "nbconvert_exporter": "python",
   "pygments_lexer": "ipython3",
   "version": "3.6.3"
  }
 },
 "nbformat": 4,
 "nbformat_minor": 2
}
