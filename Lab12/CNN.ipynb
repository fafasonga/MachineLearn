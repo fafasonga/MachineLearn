{
 "cells": [
  {
   "cell_type": "code",
   "execution_count": 1,
   "metadata": {},
   "outputs": [
    {
     "name": "stderr",
     "output_type": "stream",
     "text": [
      "/Users/admin/anaconda3/lib/python3.6/site-packages/h5py/__init__.py:34: FutureWarning: Conversion of the second argument of issubdtype from `float` to `np.floating` is deprecated. In future, it will be treated as `np.float64 == np.dtype(float).type`.\n",
      "  from ._conv import register_converters as _register_converters\n"
     ]
    }
   ],
   "source": [
    "import numpy as np\n",
    "import tensorflow as tf\n",
    "from utils import load_data, train_test_split\n",
    "from matplotlib import pyplot as plt\n",
    "from tensorflow.examples.tutorials.mnist import input_data\n",
    "from sklearn.metrics import f1_score\n",
    "\n",
    "%matplotlib inline"
   ]
  },
  {
   "cell_type": "code",
   "execution_count": null,
   "metadata": {},
   "outputs": [],
   "source": []
  },
  {
   "cell_type": "markdown",
   "metadata": {},
   "source": [
    "# Import MNIST data"
   ]
  },
  {
   "cell_type": "code",
   "execution_count": 2,
   "metadata": {},
   "outputs": [
    {
     "name": "stdout",
     "output_type": "stream",
     "text": [
      "Extracting /tmp/data/train-images-idx3-ubyte.gz\n",
      "Extracting /tmp/data/train-labels-idx1-ubyte.gz\n",
      "Extracting /tmp/data/t10k-images-idx3-ubyte.gz\n",
      "Extracting /tmp/data/t10k-labels-idx1-ubyte.gz\n"
     ]
    }
   ],
   "source": [
    "mnist = input_data.read_data_sets(\"/tmp/data/\", one_hot=False)"
   ]
  },
  {
   "cell_type": "markdown",
   "metadata": {},
   "source": [
    "# Converting the downloaded images from 1x784 format to 28x28"
   ]
  },
  {
   "cell_type": "code",
   "execution_count": 3,
   "metadata": {},
   "outputs": [
    {
     "name": "stdout",
     "output_type": "stream",
     "text": [
      "X-Train (55000, 28, 28) , X-Test (10000, 28, 28)\n"
     ]
    }
   ],
   "source": [
    "x_train = np.array([np.reshape(x, (28,28)) for x in mnist.train.images])\n",
    "x_test = np.array([np.reshape(x, (28,28)) for x in mnist.test.images])\n",
    "\n",
    "print(\"X-Train\", x_train.shape, \",\" \" X-Test\", x_test.shape)"
   ]
  },
  {
   "cell_type": "code",
   "execution_count": 4,
   "metadata": {},
   "outputs": [
    {
     "name": "stdout",
     "output_type": "stream",
     "text": [
      "Y-Train (55000,) , Y-Test (10000,)\n"
     ]
    }
   ],
   "source": [
    "# Convert labels into one-hot encoded vectors\n",
    "y_train = mnist.train.labels\n",
    "y_test = mnist.test.labels\n",
    "\n",
    "print(\"Y-Train\", y_train.shape, \",\" \" Y-Test\", y_test.shape)"
   ]
  },
  {
   "cell_type": "code",
   "execution_count": 5,
   "metadata": {},
   "outputs": [],
   "source": [
    "# Set model parameters\n",
    "batch_size = 100\n",
    "learning_rate = 0.01\n",
    "evaluation_size = 500\n",
    "image_width = x_train[0].shape[0]\n",
    "image_height = x_train[0].shape[1]\n",
    "target_size = max(y_train) + 1\n",
    "num_channels = 1           \n",
    "generations = 500\n",
    "eval_every = 5\n",
    "conv1_features = 25\n",
    "conv2_features = 50\n",
    "max_pool_size1 = 2  \n",
    "max_pool_size2 = 2 \n",
    "fully_connected = 100"
   ]
  },
  {
   "cell_type": "markdown",
   "metadata": {},
   "source": [
    "# Input Layer"
   ]
  },
  {
   "cell_type": "code",
   "execution_count": 26,
   "metadata": {},
   "outputs": [],
   "source": [
    "x_input_shape = (batch_size, image_width, image_height, num_channels)\n",
    "x_input = tf.placeholder(tf.float32, shape=x_input_shape, name=\"X-input\")\n",
    "y_target = tf.placeholder(tf.int32, shape=batch_size, name=\"Y-output\")"
   ]
  },
  {
   "cell_type": "code",
   "execution_count": 27,
   "metadata": {},
   "outputs": [],
   "source": [
    "eval_input_shape = (evaluation_size, image_width, image_height, num_channels)\n",
    "eval_input = tf.placeholder(tf.float32, shape=eval_input_shape, name=\"eval-input\")\n",
    "eval_target = tf.placeholder(tf.int32, shape=(evaluation_size), name=\"eval-output\")"
   ]
  },
  {
   "cell_type": "markdown",
   "metadata": {},
   "source": [
    "# Convolutional Layer "
   ]
  },
  {
   "cell_type": "code",
   "execution_count": 7,
   "metadata": {},
   "outputs": [],
   "source": [
    "conv1_weight = tf.Variable(tf.truncated_normal([4, 4, num_channels, conv1_features], stddev=0.1, dtype=tf.float32))\n",
    "conv1_bias = tf.Variable(tf.zeros([conv1_features], dtype=tf.float32))"
   ]
  },
  {
   "cell_type": "code",
   "execution_count": 8,
   "metadata": {},
   "outputs": [],
   "source": [
    "conv2_weight = tf.Variable(tf.truncated_normal([4, 4, conv1_features, conv2_features], stddev=0.1, dtype=tf.float32))\n",
    "conv2_bias = tf.Variable(tf.zeros([conv2_features], dtype=tf.float32))"
   ]
  },
  {
   "cell_type": "markdown",
   "metadata": {},
   "source": [
    "# Connected Variables"
   ]
  },
  {
   "cell_type": "code",
   "execution_count": 9,
   "metadata": {},
   "outputs": [],
   "source": [
    "resulting_width = image_width // (max_pool_size1 * max_pool_size2)\n",
    "resulting_height = image_height // (max_pool_size1 * max_pool_size2)\n",
    "fully_conn_input = resulting_width * resulting_height * conv2_features\n",
    "fully_conn_weight1 = tf.Variable(tf.truncated_normal([fully_conn_input, fully_connected], stddev=0.1, dtype=tf.float32))\n",
    "fully_conn_bias1 = tf.Variable(tf.truncated_normal([fully_connected], stddev=0.1, dtype=tf.float32))\n",
    "fully_conn_weight2 = tf.Variable(tf.truncated_normal([fully_connected, target_size], stddev=0.1, dtype=tf.float32))\n",
    "fully_conn_bias2 = tf.Variable(tf.truncated_normal([target_size], stddev=0.1, dtype=tf.float32))"
   ]
  },
  {
   "cell_type": "markdown",
   "metadata": {},
   "source": [
    "# Initializing the Model Operations"
   ]
  },
  {
   "cell_type": "code",
   "execution_count": 10,
   "metadata": {},
   "outputs": [],
   "source": [
    "def my_conv_net(input_data):\n",
    "    \n",
    "    # First Conv-ReLU-MaxPool Layer\n",
    "    conv1 = tf.nn.conv2d(input_data, conv1_weight, strides=[1, 1, 1, 1], padding='SAME')\n",
    "    relu1 = tf.nn.relu(tf.nn.bias_add(conv1, conv1_bias))\n",
    "    max_pool1 = tf.nn.max_pool(relu1, ksize=[1, max_pool_size1, max_pool_size1, 1], strides=[1, max_pool_size1, max_pool_size1, 1], padding='SAME')\n",
    "\n",
    "    # Second Conv-ReLU-MaxPool Layer\n",
    "    conv2 = tf.nn.conv2d(max_pool1, conv2_weight, strides=[1, 1, 1, 1], padding='SAME')\n",
    "    relu2 = tf.nn.relu(tf.nn.bias_add(conv2, conv2_bias))\n",
    "    max_pool2 = tf.nn.max_pool(relu2, ksize=[1, max_pool_size2, max_pool_size2, 1], strides=[1, max_pool_size2, max_pool_size2, 1], padding='SAME')\n",
    "\n",
    "    # Transform the Output into a 1xN layer for next fully connected layer\n",
    "    conv_shape = max_pool2.get_shape().as_list()\n",
    "    fn_shape = conv_shape[1] * conv_shape[2] * conv_shape[3]\n",
    "    flat_output = tf.reshape(max_pool2, [conv_shape[0], fn_shape])\n",
    "\n",
    "    # First Fully Connected Layer\n",
    "    fully_connected = tf.nn.relu(tf.add(tf.matmul(flat_output, fully_conn_weight1), fully_conn_bias1))\n",
    "\n",
    "    # Second Fully Connected Layer\n",
    "    model_output = tf.add(tf.matmul(fully_connected, fully_conn_weight2), fully_conn_bias2)\n",
    "    \n",
    "    return(model_output)"
   ]
  },
  {
   "cell_type": "code",
   "execution_count": 11,
   "metadata": {},
   "outputs": [
    {
     "name": "stdout",
     "output_type": "stream",
     "text": [
      "Tensor(\"Add_1:0\", shape=(100, 10), dtype=float32)\n"
     ]
    }
   ],
   "source": [
    "logits = my_conv_net(x_input)\n",
    "print(logits)"
   ]
  },
  {
   "cell_type": "code",
   "execution_count": 12,
   "metadata": {},
   "outputs": [
    {
     "name": "stdout",
     "output_type": "stream",
     "text": [
      "Tensor(\"Add_3:0\", shape=(500, 10), dtype=float32)\n"
     ]
    }
   ],
   "source": [
    "test_logit = my_conv_net(eval_input)\n",
    "print(test_logit)"
   ]
  },
  {
   "cell_type": "markdown",
   "metadata": {},
   "source": [
    "# Declaration of Loss Function"
   ]
  },
  {
   "cell_type": "code",
   "execution_count": 13,
   "metadata": {},
   "outputs": [],
   "source": [
    "loss = tf.reduce_mean(tf.nn.sparse_softmax_cross_entropy_with_logits(logits=logits, labels=y_target))"
   ]
  },
  {
   "cell_type": "markdown",
   "metadata": {},
   "source": [
    "# Creating a Prediction Function for train and test"
   ]
  },
  {
   "cell_type": "code",
   "execution_count": 14,
   "metadata": {},
   "outputs": [],
   "source": [
    "prediction = tf.nn.softmax(logits)\n",
    "test_prediction = tf.nn.softmax(test_logit)"
   ]
  },
  {
   "cell_type": "markdown",
   "metadata": {},
   "source": [
    "# Creating Accuracy Function"
   ]
  },
  {
   "cell_type": "code",
   "execution_count": 28,
   "metadata": {},
   "outputs": [],
   "source": [
    "def get_accuracy(logits, targets):\n",
    "    batch_predictions = np.argmax(logits, axis=1)\n",
    "    num_correct = np.sum(np.equal(batch_predictions, targets))\n",
    "    accuracy = (100 * num_correct / batch_predictions.shape[0])\n",
    "    return accuracy"
   ]
  },
  {
   "cell_type": "markdown",
   "metadata": {},
   "source": [
    "# Create an Optimizer"
   ]
  },
  {
   "cell_type": "code",
   "execution_count": 16,
   "metadata": {},
   "outputs": [],
   "source": [
    "train_step = tf.train.MomentumOptimizer(learning_rate, 0.9).minimize(loss)"
   ]
  },
  {
   "cell_type": "markdown",
   "metadata": {},
   "source": [
    "# Training Our Model and printing Analysis "
   ]
  },
  {
   "cell_type": "code",
   "execution_count": 22,
   "metadata": {},
   "outputs": [
    {
     "name": "stdout",
     "output_type": "stream",
     "text": [
      "Generation: 5. Training Loss: 2.19. Training Accuracy: 20.00. Test Accuracy: 21.20\n",
      "Generation: 10. Training Loss: 2.03. Training Accuracy: 34.00. Test Accuracy: 39.40\n",
      "Generation: 15. Training Loss: 1.79. Training Accuracy: 51.00. Test Accuracy: 59.20\n",
      "Generation: 20. Training Loss: 1.27. Training Accuracy: 64.00. Test Accuracy: 61.00\n",
      "Generation: 25. Training Loss: 0.87. Training Accuracy: 77.00. Test Accuracy: 74.80\n",
      "Generation: 30. Training Loss: 0.89. Training Accuracy: 70.00. Test Accuracy: 72.20\n",
      "Generation: 35. Training Loss: 0.44. Training Accuracy: 79.00. Test Accuracy: 80.80\n",
      "Generation: 40. Training Loss: 0.39. Training Accuracy: 89.00. Test Accuracy: 78.20\n",
      "Generation: 45. Training Loss: 0.36. Training Accuracy: 87.00. Test Accuracy: 82.00\n",
      "Generation: 50. Training Loss: 0.44. Training Accuracy: 85.00. Test Accuracy: 88.40\n",
      "Generation: 55. Training Loss: 0.28. Training Accuracy: 91.00. Test Accuracy: 87.60\n",
      "Generation: 60. Training Loss: 0.31. Training Accuracy: 91.00. Test Accuracy: 89.60\n",
      "Generation: 65. Training Loss: 0.21. Training Accuracy: 94.00. Test Accuracy: 89.40\n",
      "Generation: 70. Training Loss: 0.18. Training Accuracy: 93.00. Test Accuracy: 92.00\n",
      "Generation: 75. Training Loss: 0.26. Training Accuracy: 90.00. Test Accuracy: 87.60\n",
      "Generation: 80. Training Loss: 0.50. Training Accuracy: 87.00. Test Accuracy: 88.20\n",
      "Generation: 85. Training Loss: 0.20. Training Accuracy: 96.00. Test Accuracy: 91.40\n",
      "Generation: 90. Training Loss: 0.31. Training Accuracy: 92.00. Test Accuracy: 93.40\n",
      "Generation: 95. Training Loss: 0.27. Training Accuracy: 89.00. Test Accuracy: 90.60\n",
      "Generation: 100. Training Loss: 0.29. Training Accuracy: 90.00. Test Accuracy: 91.20\n",
      "Generation: 105. Training Loss: 0.22. Training Accuracy: 92.00. Test Accuracy: 93.80\n",
      "Generation: 110. Training Loss: 0.27. Training Accuracy: 93.00. Test Accuracy: 91.00\n",
      "Generation: 115. Training Loss: 0.20. Training Accuracy: 97.00. Test Accuracy: 93.00\n",
      "Generation: 120. Training Loss: 0.36. Training Accuracy: 91.00. Test Accuracy: 94.80\n",
      "Generation: 125. Training Loss: 0.23. Training Accuracy: 93.00. Test Accuracy: 95.60\n",
      "Generation: 130. Training Loss: 0.20. Training Accuracy: 94.00. Test Accuracy: 93.00\n",
      "Generation: 135. Training Loss: 0.20. Training Accuracy: 95.00. Test Accuracy: 95.40\n",
      "Generation: 140. Training Loss: 0.23. Training Accuracy: 92.00. Test Accuracy: 93.80\n",
      "Generation: 145. Training Loss: 0.29. Training Accuracy: 91.00. Test Accuracy: 92.60\n",
      "Generation: 150. Training Loss: 0.27. Training Accuracy: 91.00. Test Accuracy: 92.80\n",
      "Generation: 155. Training Loss: 0.20. Training Accuracy: 93.00. Test Accuracy: 91.40\n",
      "Generation: 160. Training Loss: 0.12. Training Accuracy: 97.00. Test Accuracy: 93.60\n",
      "Generation: 165. Training Loss: 0.10. Training Accuracy: 97.00. Test Accuracy: 90.60\n",
      "Generation: 170. Training Loss: 0.15. Training Accuracy: 95.00. Test Accuracy: 94.20\n",
      "Generation: 175. Training Loss: 0.11. Training Accuracy: 98.00. Test Accuracy: 95.40\n",
      "Generation: 180. Training Loss: 0.28. Training Accuracy: 93.00. Test Accuracy: 93.00\n",
      "Generation: 185. Training Loss: 0.10. Training Accuracy: 98.00. Test Accuracy: 95.80\n",
      "Generation: 190. Training Loss: 0.20. Training Accuracy: 96.00. Test Accuracy: 95.00\n",
      "Generation: 195. Training Loss: 0.17. Training Accuracy: 92.00. Test Accuracy: 93.00\n",
      "Generation: 200. Training Loss: 0.23. Training Accuracy: 89.00. Test Accuracy: 94.00\n",
      "Generation: 205. Training Loss: 0.15. Training Accuracy: 96.00. Test Accuracy: 95.00\n",
      "Generation: 210. Training Loss: 0.15. Training Accuracy: 94.00. Test Accuracy: 95.00\n",
      "Generation: 215. Training Loss: 0.10. Training Accuracy: 98.00. Test Accuracy: 95.20\n",
      "Generation: 220. Training Loss: 0.12. Training Accuracy: 95.00. Test Accuracy: 93.60\n",
      "Generation: 225. Training Loss: 0.21. Training Accuracy: 93.00. Test Accuracy: 95.60\n",
      "Generation: 230. Training Loss: 0.06. Training Accuracy: 99.00. Test Accuracy: 95.40\n",
      "Generation: 235. Training Loss: 0.12. Training Accuracy: 96.00. Test Accuracy: 94.40\n",
      "Generation: 240. Training Loss: 0.16. Training Accuracy: 96.00. Test Accuracy: 95.00\n",
      "Generation: 245. Training Loss: 0.18. Training Accuracy: 95.00. Test Accuracy: 95.40\n",
      "Generation: 250. Training Loss: 0.06. Training Accuracy: 99.00. Test Accuracy: 94.60\n",
      "Generation: 255. Training Loss: 0.06. Training Accuracy: 99.00. Test Accuracy: 95.60\n",
      "Generation: 260. Training Loss: 0.16. Training Accuracy: 95.00. Test Accuracy: 93.80\n",
      "Generation: 265. Training Loss: 0.11. Training Accuracy: 94.00. Test Accuracy: 95.00\n",
      "Generation: 270. Training Loss: 0.16. Training Accuracy: 96.00. Test Accuracy: 96.60\n",
      "Generation: 275. Training Loss: 0.06. Training Accuracy: 99.00. Test Accuracy: 96.20\n",
      "Generation: 280. Training Loss: 0.14. Training Accuracy: 95.00. Test Accuracy: 96.40\n",
      "Generation: 285. Training Loss: 0.14. Training Accuracy: 97.00. Test Accuracy: 95.80\n",
      "Generation: 290. Training Loss: 0.08. Training Accuracy: 98.00. Test Accuracy: 97.40\n",
      "Generation: 295. Training Loss: 0.09. Training Accuracy: 97.00. Test Accuracy: 97.40\n",
      "Generation: 300. Training Loss: 0.08. Training Accuracy: 97.00. Test Accuracy: 96.40\n",
      "Generation: 305. Training Loss: 0.07. Training Accuracy: 98.00. Test Accuracy: 97.40\n",
      "Generation: 310. Training Loss: 0.11. Training Accuracy: 97.00. Test Accuracy: 95.80\n",
      "Generation: 315. Training Loss: 0.05. Training Accuracy: 100.00. Test Accuracy: 95.60\n",
      "Generation: 320. Training Loss: 0.08. Training Accuracy: 98.00. Test Accuracy: 95.80\n",
      "Generation: 325. Training Loss: 0.15. Training Accuracy: 98.00. Test Accuracy: 96.80\n",
      "Generation: 330. Training Loss: 0.11. Training Accuracy: 96.00. Test Accuracy: 95.60\n",
      "Generation: 335. Training Loss: 0.07. Training Accuracy: 98.00. Test Accuracy: 95.20\n",
      "Generation: 340. Training Loss: 0.09. Training Accuracy: 98.00. Test Accuracy: 96.60\n",
      "Generation: 345. Training Loss: 0.05. Training Accuracy: 99.00. Test Accuracy: 96.20\n",
      "Generation: 350. Training Loss: 0.15. Training Accuracy: 96.00. Test Accuracy: 97.20\n",
      "Generation: 355. Training Loss: 0.14. Training Accuracy: 97.00. Test Accuracy: 95.60\n",
      "Generation: 360. Training Loss: 0.10. Training Accuracy: 97.00. Test Accuracy: 96.40\n",
      "Generation: 365. Training Loss: 0.06. Training Accuracy: 98.00. Test Accuracy: 96.60\n",
      "Generation: 370. Training Loss: 0.04. Training Accuracy: 100.00. Test Accuracy: 96.60\n",
      "Generation: 375. Training Loss: 0.05. Training Accuracy: 99.00. Test Accuracy: 95.20\n",
      "Generation: 380. Training Loss: 0.15. Training Accuracy: 94.00. Test Accuracy: 97.60\n",
      "Generation: 385. Training Loss: 0.12. Training Accuracy: 96.00. Test Accuracy: 96.60\n",
      "Generation: 390. Training Loss: 0.16. Training Accuracy: 95.00. Test Accuracy: 95.20\n",
      "Generation: 395. Training Loss: 0.20. Training Accuracy: 95.00. Test Accuracy: 96.40\n",
      "Generation: 400. Training Loss: 0.14. Training Accuracy: 96.00. Test Accuracy: 95.40\n",
      "Generation: 405. Training Loss: 0.08. Training Accuracy: 97.00. Test Accuracy: 96.80\n",
      "Generation: 410. Training Loss: 0.12. Training Accuracy: 97.00. Test Accuracy: 98.40\n",
      "Generation: 415. Training Loss: 0.10. Training Accuracy: 97.00. Test Accuracy: 96.80\n",
      "Generation: 420. Training Loss: 0.15. Training Accuracy: 95.00. Test Accuracy: 96.40\n",
      "Generation: 425. Training Loss: 0.07. Training Accuracy: 99.00. Test Accuracy: 96.00\n",
      "Generation: 430. Training Loss: 0.06. Training Accuracy: 98.00. Test Accuracy: 98.80\n",
      "Generation: 435. Training Loss: 0.06. Training Accuracy: 97.00. Test Accuracy: 97.40\n",
      "Generation: 440. Training Loss: 0.06. Training Accuracy: 98.00. Test Accuracy: 97.20\n",
      "Generation: 445. Training Loss: 0.16. Training Accuracy: 94.00. Test Accuracy: 97.00\n",
      "Generation: 450. Training Loss: 0.13. Training Accuracy: 96.00. Test Accuracy: 96.00\n",
      "Generation: 455. Training Loss: 0.12. Training Accuracy: 96.00. Test Accuracy: 95.80\n",
      "Generation: 460. Training Loss: 0.05. Training Accuracy: 99.00. Test Accuracy: 97.00\n",
      "Generation: 465. Training Loss: 0.15. Training Accuracy: 96.00. Test Accuracy: 95.80\n",
      "Generation: 470. Training Loss: 0.06. Training Accuracy: 98.00. Test Accuracy: 96.00\n",
      "Generation: 475. Training Loss: 0.08. Training Accuracy: 98.00. Test Accuracy: 98.00\n",
      "Generation: 480. Training Loss: 0.08. Training Accuracy: 98.00. Test Accuracy: 97.40\n",
      "Generation: 485. Training Loss: 0.04. Training Accuracy: 98.00. Test Accuracy: 96.00\n"
     ]
    },
    {
     "name": "stdout",
     "output_type": "stream",
     "text": [
      "Generation: 490. Training Loss: 0.15. Training Accuracy: 95.00. Test Accuracy: 96.60\n",
      "Generation: 495. Training Loss: 0.05. Training Accuracy: 100.00. Test Accuracy: 95.00\n",
      "Generation: 500. Training Loss: 0.07. Training Accuracy: 97.00. Test Accuracy: 96.60\n",
      "Optimization has finished!\n"
     ]
    }
   ],
   "source": [
    "with tf.Session() as sess:\n",
    "    # Initializing Variables\n",
    "    init = tf.global_variables_initializer()\n",
    "    sess.run(init)\n",
    "    \n",
    "    # Starting training loop\n",
    "    train_loss = []\n",
    "    train_acc = []\n",
    "    test_acc = []\n",
    "    for i in range(generations):\n",
    "        rand_index = np.random.choice(len(x_train), size=batch_size)\n",
    "        rand_x = x_train[rand_index]\n",
    "        rand_x = np.expand_dims(rand_x, 3)\n",
    "        rand_y = y_train[rand_index]\n",
    "        train_dict = {x_input: rand_x, y_target: rand_y}\n",
    "\n",
    "        sess.run(train_step, feed_dict=train_dict)\n",
    "        temp_train_loss, temp_train_preds = sess.run([loss, prediction], feed_dict=train_dict)\n",
    "        temp_train_acc = get_accuracy(temp_train_preds, rand_y)\n",
    "\n",
    "        if (i+1) % eval_every == 0:\n",
    "            eval_index = np.random.choice(len(x_test), size=evaluation_size)\n",
    "            eval_x = x_test[eval_index]\n",
    "            eval_x = np.expand_dims(eval_x, 3)\n",
    "            eval_y = y_test[eval_index]\n",
    "            test_dict = {eval_input: eval_x, eval_target: eval_y}\n",
    "            test_preds = sess.run(test_prediction, feed_dict=test_dict)\n",
    "            temp_test_acc = get_accuracy(test_preds, eval_y)\n",
    "\n",
    "            # Recording and printing results\n",
    "            train_loss.append(temp_train_loss)\n",
    "            train_acc.append(temp_train_acc)\n",
    "            test_acc.append(temp_test_acc)\n",
    "            acc_and_loss = [(i+1), temp_train_loss, temp_train_acc, temp_test_acc]\n",
    "            acc_and_loss = [np.round(x,2) for x in acc_and_loss]\n",
    "            print('Generation: {}. Training Loss: {:.2f}. Training Accuracy: {:.2f}. Test Accuracy: {:.2f}'.format(*acc_and_loss))  \n",
    "            \n",
    "           \n",
    "    print(\"Optimization has finished!\")"
   ]
  },
  {
   "cell_type": "markdown",
   "metadata": {},
   "source": [
    "# Plotting 6 last batch results:"
   ]
  },
  {
   "cell_type": "code",
   "execution_count": 23,
   "metadata": {},
   "outputs": [
    {
     "data": {
      "image/png": "[encoded data removed]",
      "text/plain": [
       "<matplotlib.figure.Figure at 0x1c2505f860>"
      ]
     },
     "metadata": {},
     "output_type": "display_data"
    }
   ],
   "source": [
    "actuals = rand_y[0:6]\n",
    "predictions = np.argmax(temp_train_preds,axis=1)[0:6]\n",
    "images = np.squeeze(rand_x[0:6])\n",
    "\n",
    "Nrows = 2\n",
    "Ncols = 3\n",
    "for i in range(6):\n",
    "    plt.subplot(Nrows, Ncols, i+1)\n",
    "    plt.imshow(np.reshape(images[i], [28,28]), cmap='Greys_r')\n",
    "    plt.title('Actual: ' + str(actuals[i]) + ' Pred: '+ str(predictions[i]), fontsize=12)\n",
    "    frame = plt.gca()\n",
    "    frame.axes.get_xaxis().set_visible(False)\n",
    "    frame.axes.get_yaxis().set_visible(False)\n",
    "    \n",
    "plt.show()"
   ]
  },
  {
   "cell_type": "markdown",
   "metadata": {},
   "source": [
    "# Plot Loss over Time"
   ]
  },
  {
   "cell_type": "code",
   "execution_count": 24,
   "metadata": {},
   "outputs": [
    {
     "data": {
      "image/png": "[encoded data removed]",
      "text/plain": [
       "<matplotlib.figure.Figure at 0x1c1fe66198>"
      ]
     },
     "metadata": {},
     "output_type": "display_data"
    }
   ],
   "source": [
    "eval_indices = range(0, generations, eval_every)\n",
    "plt.plot(eval_indices, train_loss, 'k-')\n",
    "plt.title('Softmax Loss per Generation')\n",
    "plt.xlabel('Generation')\n",
    "plt.ylabel('Softmax Loss')\n",
    "plt.show()"
   ]
  },
  {
   "cell_type": "markdown",
   "metadata": {},
   "source": [
    "# Plot Train and Test Accuracy over the Generated Samples"
   ]
  },
  {
   "cell_type": "code",
   "execution_count": 25,
   "metadata": {},
   "outputs": [
    {
     "data": {
      "image/png": "[encoded data removed]",
      "text/plain": [
       "<matplotlib.figure.Figure at 0x1c1eb4f630>"
      ]
     },
     "metadata": {},
     "output_type": "display_data"
    }
   ],
   "source": [
    "plt.plot(eval_indices, train_acc, 'k-', label='Train Set Accuracy')\n",
    "plt.plot(eval_indices, test_acc, 'r--', label='Test Set Accuracy')\n",
    "plt.title('Train and Test Accuracy')\n",
    "plt.xlabel('Generation')\n",
    "plt.ylabel('Accuracy')\n",
    "plt.legend(loc='lower right')\n",
    "plt.show()"
   ]
  },
  {
   "cell_type": "code",
   "execution_count": null,
   "metadata": {},
   "outputs": [],
   "source": []
  }
 ],
 "metadata": {
  "kernelspec": {
   "display_name": "Python 3",
   "language": "python",
   "name": "python3"
  },
  "language_info": {
   "codemirror_mode": {
    "name": "ipython",
    "version": 3
   },
   "file_extension": ".py",
   "mimetype": "text/x-python",
   "name": "python",
   "nbconvert_exporter": "python",
   "pygments_lexer": "ipython3",
   "version": "3.6.3"
  }
 },
 "nbformat": 4,
 "nbformat_minor": 2
}
