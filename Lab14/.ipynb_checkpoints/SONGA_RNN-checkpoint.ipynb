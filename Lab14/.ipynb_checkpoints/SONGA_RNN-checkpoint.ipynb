{
 "cells": [
  {
   "cell_type": "code",
   "execution_count": 1,
   "metadata": {},
   "outputs": [],
   "source": [
    "import numpy as np \n",
    "from matplotlib import cm \n",
    "import matplotlib.pyplot as plt \n",
    "# from matplotlib.colors import LogNorm "
   ]
  },
  {
   "cell_type": "code",
   "execution_count": 2,
   "metadata": {},
   "outputs": [],
   "source": [
    "%matplotlib inline"
   ]
  },
  {
   "cell_type": "code",
   "execution_count": 3,
   "metadata": {},
   "outputs": [],
   "source": [
    "np.random.seed(seed=1)"
   ]
  },
  {
   "cell_type": "code",
   "execution_count": 4,
   "metadata": {},
   "outputs": [],
   "source": [
    "# Create dataset"
   ]
  },
  {
   "cell_type": "code",
   "execution_count": 26,
   "metadata": {},
   "outputs": [],
   "source": [
    "nb_of_samples = 20\n",
    "sequence_len = 10"
   ]
  },
  {
   "cell_type": "code",
   "execution_count": 27,
   "metadata": {},
   "outputs": [],
   "source": [
    "# Create the sequences"
   ]
  },
  {
   "cell_type": "code",
   "execution_count": 28,
   "metadata": {},
   "outputs": [],
   "source": [
    "X = np.zeros((nb_of_samples, sequence_len))\n",
    "for row_idx in range(nb_of_samples):\n",
    "    X[row_idx,:] = np.around(np.random.rand(sequence_len)).astype(int)"
   ]
  },
  {
   "cell_type": "code",
   "execution_count": 29,
   "metadata": {},
   "outputs": [],
   "source": [
    "# Create the targets for each sequence\n",
    "t = np.sum(X, axis=1)"
   ]
  },
  {
   "cell_type": "code",
   "execution_count": 30,
   "metadata": {},
   "outputs": [],
   "source": [
    "# Define the forward step functions\n",
    "def update_state(xk, sk, wx, wRec):\n",
    "    \"\"\"\n",
    "    Compute state k from the previous state (sk) and current input (xk),\n",
    "    by use of the input weights (wx) and recursive weights (wRec).\n",
    "    \"\"\"\n",
    "    return xk * wx + sk * wRec"
   ]
  },
  {
   "cell_type": "code",
   "execution_count": 31,
   "metadata": {},
   "outputs": [],
   "source": [
    "def forward_states(X, wx, wRec):\n",
    "    \"\"\"\n",
    "    Unfold the network and compute all state activations given the input X,\n",
    "    and input weights (wx) and recursive weights (wRec).\n",
    "    Return the state activations in a matrix, the last column S[:,-1] contains the\n",
    "    final activations.\n",
    "    \"\"\"\n",
    "    # Initialise the matrix that holds all states for all input sequences.\n",
    "    # The initial state s0 is set to 0.\n",
    "    S = np.zeros((X.shape[0], X.shape[1] + 1))\n",
    "    # Use the recurrence relation defined by update_state to update the \n",
    "    #  states trough time.\n",
    "    for k in range(0, X.shape[1]):\n",
    "        # S[k] = S[k-1] * wRec + X[k] * wx\n",
    "        S[:,k+1] = update_state(X[:,k], S[:,k], wx, wRec)\n",
    "    return S"
   ]
  },
  {
   "cell_type": "code",
   "execution_count": 32,
   "metadata": {},
   "outputs": [],
   "source": [
    "def cost(y, t): \n",
    "    \"\"\"\n",
    "    Return the MSE between the targets t and the outputs y.\n",
    "    \"\"\"\n",
    "    return ((t - y)**2).sum() / nb_of_samples"
   ]
  },
  {
   "cell_type": "code",
   "execution_count": 33,
   "metadata": {},
   "outputs": [],
   "source": [
    "def output_gradient(y, t):\n",
    "    \"\"\"\n",
    "    Compute the gradient of the MSE cost function with respect to the output y.\n",
    "    \"\"\"\n",
    "    return 2.0 * (y - t) / nb_of_samples"
   ]
  },
  {
   "cell_type": "code",
   "execution_count": 34,
   "metadata": {},
   "outputs": [],
   "source": [
    "def backward_gradient(X, S, grad_out, wRec):\n",
    "    \"\"\"\n",
    "    Backpropagate the gradient computed at the output (grad_out) through the network.\n",
    "    Accumulate the parameter gradients for wX and wRec for each layer by addition.\n",
    "    Return the parameter gradients as a tuple, and the gradients at the output of each layer.\n",
    "    \"\"\"\n",
    "    # Initialise the array that stores the gradients of the cost with respect to the states.\n",
    "    grad_over_time = np.zeros((X.shape[0], X.shape[1]+1))\n",
    "    grad_over_time[:,-1] = grad_out\n",
    "    # Set the gradient accumulations to 0\n",
    "    wx_grad = 0\n",
    "    wRec_grad = 0\n",
    "    for k in range(X.shape[1], 0, -1):\n",
    "        # Compute the parameter gradients and accumulate the results.\n",
    "        wx_grad += np.sum(grad_over_time[:,k] * X[:,k-1])\n",
    "        wRec_grad += np.sum(grad_over_time[:,k] * S[:,k-1])\n",
    "        # Compute the gradient at the output of the previous layer\n",
    "        grad_over_time[:,k-1] = grad_over_time[:,k] * wRec\n",
    "    return (wx_grad, wRec_grad), grad_over_time"
   ]
  },
  {
   "cell_type": "code",
   "execution_count": 35,
   "metadata": {},
   "outputs": [],
   "source": [
    "# Perform gradient checking\n",
    "# Set the weight parameters used during gradient checking\n",
    "wx = [0.6]\n",
    "wRec= [0.1]\n",
    "\n",
    "# Set the small change to compute the numerical gradient\n",
    "eps = 1e-7\n",
    "\n",
    "for i in range(0, len(wx)):\n",
    "    # Compute the backprop gradients\n",
    "    S = forward_states(X, wx[i], wRec)\n",
    "    grad_out = output_gradient(S[:,-1], t)\n",
    "    backprop_grads, grad_over_time = backward_gradient(X, S, grad_out, wRec)\n",
    "    # Compute the numerical gradient for each parameter in the layer\n",
    "    grad_backprop = backprop_grads[i]\n",
    "    # + eps\n",
    "    wx[i] += eps\n",
    "    plus_cost = cost(forward_states(X, wx[i], wRec)[:,-1], t)\n",
    "    # - eps\n",
    "    wx[i] -= 2 * eps\n",
    "    min_cost = cost(forward_states(X, wx[i], wRec)[:,-1], t)\n",
    "    # reset param value\n",
    "    wx[i] += eps\n",
    "    # calculate numerical gradient\n",
    "    grad_num = (plus_cost - min_cost) / (2*eps)"
   ]
  },
  {
   "cell_type": "code",
   "execution_count": 77,
   "metadata": {},
   "outputs": [],
   "source": [
    "# Define points to annotate (wx, wRec, color)"
   ]
  },
  {
   "cell_type": "code",
   "execution_count": 78,
   "metadata": {},
   "outputs": [],
   "source": [
    "points = [(0.6,0.05,'r'), (-0.5,0.01,'b'), (-0.2,0.1,'y')]"
   ]
  },
  {
   "cell_type": "code",
   "execution_count": 79,
   "metadata": {},
   "outputs": [],
   "source": [
    "# Define plotting functions"
   ]
  },
  {
   "cell_type": "code",
   "execution_count": 80,
   "metadata": {},
   "outputs": [],
   "source": [
    "def get_cost_surface(w1_low, w1_high, w2_low, w2_high, nb_of_ws, cost_func):\n",
    "    \"\"\"Define a vector of weights for which we want to plot the cost.\"\"\"\n",
    "    w1 = np.linspace(w1_low, w1_high, num=nb_of_ws)  # Weight 1\n",
    "    w2 = np.linspace(w2_low, w2_high, num=nb_of_ws)  # Weight 2\n",
    "    ws1, ws2 = np.meshgrid(w1, w2)  # Generate grid\n",
    "    cost_ws = np.zeros((nb_of_ws, nb_of_ws))  # Initialize cost matrix\n",
    "    # Fill the cost matrix for each combination of weights\n",
    "    for i in range(nb_of_ws):\n",
    "        for j in range(nb_of_ws):\n",
    "            cost_ws[i,j] = cost_func(ws1[i,j], ws2[i,j])\n",
    "    return ws1, ws2, cost_ws"
   ]
  },
  {
   "cell_type": "code",
   "execution_count": 81,
   "metadata": {},
   "outputs": [],
   "source": [
    "def plot_gradient_over_time(points, get_grad_over_time):\n",
    "    \"\"\"Plot the gradients of the annotated point and how the evolve over time.\"\"\"\n",
    "    fig = plt.figure(figsize=(6.5, 4))  \n",
    "    ax = plt.subplot(111)\n",
    "    # Plot points\n",
    "    for wx, wRec, c in points:\n",
    "        grad_over_time = get_grad_over_time(wx, wRec)\n",
    "        x = np.arange(-grad_over_time.shape[1]+1, 1, 1)\n",
    "        plt.plot(x, np.sum(grad_over_time, axis=0), c+'-', label='({0}, {1})'.format(wx, wRec), linewidth=1, markersize=8)\n",
    "    plt.xlim(0, -grad_over_time.shape[1]+1)\n",
    "    # Set up plot axis\n",
    "    plt.xticks(x)\n",
    "    plt.yscale('symlog')\n",
    "    plt.yticks([10**4, 10**2, 0, -10**2, -10**4])\n",
    "    plt.xlabel('Sample length', fontsize=20)\n",
    "    plt.ylabel('$\\\\frac{\\\\partial \\\\xi}{\\\\partial S_{k}}$', fontsize=20, rotation=0)\n",
    "    plt.grid()\n",
    "    plt.title('Gradients changing by Backpropagation')\n",
    "    # Set legend\n",
    "    leg = plt.legend(loc='center left', bbox_to_anchor=(1, 0.5), frameon=False, numpoints=1)\n",
    "    leg.set_title('$(w_x, w_{rec})$', prop={'size':18})"
   ]
  },
  {
   "cell_type": "code",
   "execution_count": 82,
   "metadata": {},
   "outputs": [],
   "source": [
    "def get_grad_over_time(wx, wRec):\n",
    "    \"\"\"Func to get the gradient over time from wx and wRec.\"\"\"\n",
    "    S = forward_states(X, wx, wRec)\n",
    "    grad_out = output_gradient(S[:,-1], t).sum()\n",
    "    _, grad_over_time = backward_gradient(X, S, grad_out, wRec)\n",
    "    return grad_over_time"
   ]
  },
  {
   "cell_type": "code",
   "execution_count": 83,
   "metadata": {},
   "outputs": [
    {
     "data": {
      "image/png": "[encoded data removed]",
      "text/plain": [
       "<Figure size 468x288 with 1 Axes>"
      ]
     },
     "metadata": {},
     "output_type": "display_data"
    }
   ],
   "source": [
    "plot_gradient_over_time(points, get_grad_over_time)\n",
    "plt.show()"
   ]
  },
  {
   "cell_type": "code",
   "execution_count": null,
   "metadata": {},
   "outputs": [],
   "source": []
  }
 ],
 "metadata": {
  "kernelspec": {
   "display_name": "Python 3",
   "language": "python",
   "name": "python3"
  },
  "language_info": {
   "codemirror_mode": {
    "name": "ipython",
    "version": 3
   },
   "file_extension": ".py",
   "mimetype": "text/x-python",
   "name": "python",
   "nbconvert_exporter": "python",
   "pygments_lexer": "ipython3",
   "version": "3.6.3"
  }
 },
 "nbformat": 4,
 "nbformat_minor": 2
}
