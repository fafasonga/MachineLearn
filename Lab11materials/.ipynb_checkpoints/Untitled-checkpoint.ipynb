{
 "cells": [
  {
   "cell_type": "code",
   "execution_count": 384,
   "metadata": {},
   "outputs": [],
   "source": [
    "import matplotlib.pyplot as plt\n",
    "import numpy as np\n",
    "import tensorflow as tf\n",
    "from utils import load_data, train_test_split\n",
    "from sklearn.metrics import f1_score\n",
    "from sklearn.neighbors import KNeighborsClassifier"
   ]
  },
  {
   "cell_type": "code",
   "execution_count": 385,
   "metadata": {},
   "outputs": [],
   "source": [
    "# Start session\n",
    "sess = tf.Session()"
   ]
  },
  {
   "cell_type": "code",
   "execution_count": 386,
   "metadata": {},
   "outputs": [],
   "source": [
    "x_vals, y_vals = load_data(\"mnist_small.csv\", has_header=False)\n",
    "y_vals = np.where(y_vals < 5, 0, 1)"
   ]
  },
  {
   "cell_type": "code",
   "execution_count": 387,
   "metadata": {},
   "outputs": [],
   "source": [
    "x_train, y_train, x_test, y_test = train_test_split(x_vals, y_vals, 0.8)"
   ]
  },
  {
   "cell_type": "code",
   "execution_count": 388,
   "metadata": {},
   "outputs": [],
   "source": [
    "    # Parameters\n",
    "learning_rate = 0.01\n",
    "x_size, num_feature = x_vals.shape      # MNIST data input (img shape: 28*28)\n",
    "num_classes = 1                        # MNIST total classes (0-9 digits)\n",
    "num_steps = 500\n",
    "n_hidden_1 = 100                      # 1st layer number of neurons\n",
    "n_hidden_2 = 100                     # 2nd layer number of neurons"
   ]
  },
  {
   "cell_type": "code",
   "execution_count": 389,
   "metadata": {},
   "outputs": [],
   "source": [
    "    # tf Graph input\n",
    "X = tf.placeholder(tf.float32, shape=[None, num_feature], name=\"x-input\")\n",
    "Y = tf.placeholder(tf.float32, shape=[None, num_classes], name=\"y-input\")"
   ]
  },
  {
   "cell_type": "code",
   "execution_count": 390,
   "metadata": {},
   "outputs": [],
   "source": [
    "Y = tf.cast(Y, tf.float32)"
   ]
  },
  {
   "cell_type": "code",
   "execution_count": 391,
   "metadata": {},
   "outputs": [],
   "source": [
    "    # Hidden fully connected layer with 100 neurons\n",
    "layer = tf.layers.dense(inputs=X, units=n_hidden_1, activation=tf.nn.sigmoid)"
   ]
  },
  {
   "cell_type": "code",
   "execution_count": 392,
   "metadata": {},
   "outputs": [],
   "source": [
    "    # Output fully connected layer with a neuron for each class\n",
    "layer_out = tf.layers.dense(inputs=layer, units=1)"
   ]
  },
  {
   "cell_type": "code",
   "execution_count": 393,
   "metadata": {},
   "outputs": [
    {
     "name": "stdout",
     "output_type": "stream",
     "text": [
      "Tensor(\"Cross_Entropy_22:0\", shape=(?, 1), dtype=float32)\n"
     ]
    }
   ],
   "source": [
    "cross_entropy = tf.nn.sigmoid_cross_entropy_with_logits(logits=layer_out, labels=Y, name='Cross_Entropy')\n",
    "print(cross_entropy)"
   ]
  },
  {
   "cell_type": "code",
   "execution_count": 394,
   "metadata": {},
   "outputs": [
    {
     "name": "stdout",
     "output_type": "stream",
     "text": [
      "Tensor(\"Loss_22:0\", shape=(), dtype=float32)\n"
     ]
    }
   ],
   "source": [
    "loss = tf.reduce_mean(cross_entropy, name='Loss')\n",
    "print(loss)"
   ]
  },
  {
   "cell_type": "code",
   "execution_count": 395,
   "metadata": {},
   "outputs": [
    {
     "name": "stdout",
     "output_type": "stream",
     "text": [
      "Tensor(\"Round_23:0\", shape=(?, 1), dtype=float32)\n"
     ]
    }
   ],
   "source": [
    "prediction = tf.round(tf.nn.sigmoid(layer_out))\n",
    "print(prediction)"
   ]
  },
  {
   "cell_type": "code",
   "execution_count": 396,
   "metadata": {},
   "outputs": [],
   "source": [
    "# add an optimiser\n",
    "optimiser = tf.train.GradientDescentOptimizer(learning_rate=learning_rate).minimize(loss)"
   ]
  },
  {
   "cell_type": "code",
   "execution_count": 397,
   "metadata": {},
   "outputs": [
    {
     "name": "stdout",
     "output_type": "stream",
     "text": [
      "F1 on test:  0.7272727272727272\n",
      "F1 on train:  0.9594594594594595\n"
     ]
    },
    {
     "data": {
      "image/png": "[encoded data removed]",
      "text/plain": [
       "<matplotlib.figure.Figure at 0x1c25ade390>"
      ]
     },
     "metadata": {},
     "output_type": "display_data"
    }
   ],
   "source": [
    "with tf.Session() as sess:\n",
    "    sess.run(tf.initialize_all_variables())\n",
    "    arr_loss = []\n",
    "    for i in range(num_steps):\n",
    "        sess.run(optimiser, feed_dict={X: x_train, Y: y_train})\n",
    "        val = sess.run(loss, feed_dict={X: x_train, Y: y_train})\n",
    "        arr_loss.append(val)\n",
    "        predictions = sess.run(prediction, feed_dict={X: x_test})\n",
    "        \n",
    "    predictions = sess.run(prediction, feed_dict={X: x_test})\n",
    "    predictions_train = sess.run(prediction, feed_dict={X: x_train})\n",
    "\n",
    "    print('F1 on test: ', f1_score(y_true=y_test, y_pred=predictions))\n",
    "    print('F1 on train: ', f1_score(y_true=y_train, y_pred=predictions_train))\n",
    "\n",
    "    plt.plot(arr_loss)\n",
    "    plt.show()"
   ]
  },
  {
   "cell_type": "code",
   "execution_count": null,
   "metadata": {},
   "outputs": [],
   "source": []
  },
  {
   "cell_type": "code",
   "execution_count": 398,
   "metadata": {},
   "outputs": [],
   "source": [
    "# Create model\n",
    "def neural_netwk(x):    \n",
    "    # Hidden fully connected layer with 100 neurons\n",
    "    layer_1 = tf.layers.dense(x, n_hidden_1, activation=tf.nn.sigmoid)\n",
    "    # Hidden fully connected layer with 100 neurons\n",
    "    layer_2 = tf.layers.dense(layer_1, n_hidden_2, activation=tf.nn.sigmoid)\n",
    "    # Output fully connected layer with a neuron for each class\n",
    "    out_layer = tf.layers.dense(layer_2, num_classes, activation=tf.nn.sigmoid)\n",
    "    return out_layer"
   ]
  },
  {
   "cell_type": "code",
   "execution_count": 399,
   "metadata": {},
   "outputs": [],
   "source": [
    "logit = neural_net(X)"
   ]
  },
  {
   "cell_type": "code",
   "execution_count": 400,
   "metadata": {},
   "outputs": [
    {
     "name": "stdout",
     "output_type": "stream",
     "text": [
      "Tensor(\"Cross_Entropy_23:0\", shape=(?, 1), dtype=float32)\n"
     ]
    }
   ],
   "source": [
    "cross_entropy = tf.nn.sigmoid_cross_entropy_with_logits(logits=logit, labels=Y, name='Cross_Entropy')\n",
    "print(cross_entropy)"
   ]
  },
  {
   "cell_type": "code",
   "execution_count": 401,
   "metadata": {},
   "outputs": [
    {
     "name": "stdout",
     "output_type": "stream",
     "text": [
      "Tensor(\"Loss_23:0\", shape=(), dtype=float32)\n"
     ]
    }
   ],
   "source": [
    "loss = tf.reduce_mean(cross_entropy, name='Loss')\n",
    "print(loss)"
   ]
  },
  {
   "cell_type": "code",
   "execution_count": 402,
   "metadata": {},
   "outputs": [
    {
     "name": "stdout",
     "output_type": "stream",
     "text": [
      "Tensor(\"Round_24:0\", shape=(?, 1), dtype=float32)\n"
     ]
    }
   ],
   "source": [
    "prediction = tf.round(tf.nn.sigmoid(logit))\n",
    "print(prediction)"
   ]
  },
  {
   "cell_type": "code",
   "execution_count": 403,
   "metadata": {},
   "outputs": [],
   "source": [
    "# add an optimiser\n",
    "optimiser = tf.train.GradientDescentOptimizer(learning_rate=learning_rate).minimize(loss)"
   ]
  },
  {
   "cell_type": "code",
   "execution_count": 404,
   "metadata": {},
   "outputs": [
    {
     "name": "stdout",
     "output_type": "stream",
     "text": [
      "F1 on test:  0.5454545454545454\n",
      "F1 on train:  0.6440677966101694\n"
     ]
    },
    {
     "data": {
      "image/png": "[encoded data removed]",
      "text/plain": [
       "<matplotlib.figure.Figure at 0x1c26e09ac8>"
      ]
     },
     "metadata": {},
     "output_type": "display_data"
    }
   ],
   "source": [
    "with tf.Session() as sess:\n",
    "    sess.run(tf.initialize_all_variables())\n",
    "    arr_loss = []\n",
    "    for i in range(num_steps):\n",
    "        sess.run(optimiser, feed_dict={X: x_train, Y: y_train})\n",
    "        val = sess.run(loss, feed_dict={X: x_train, Y: y_train})\n",
    "        arr_loss.append(val)\n",
    "        predictions = sess.run(prediction, feed_dict={X: x_test})\n",
    "        \n",
    "    predictions = sess.run(prediction, feed_dict={X: x_test})\n",
    "    predictions_train = sess.run(prediction, feed_dict={X: x_train})\n",
    "\n",
    "    print('F1 on test: ', f1_score(y_true=y_test, y_pred=predictions))\n",
    "    print('F1 on train: ', f1_score(y_true=y_train, y_pred=predictions_train))\n",
    "\n",
    "    plt.plot(arr_loss)\n",
    "    plt.show()"
   ]
  },
  {
   "cell_type": "code",
   "execution_count": null,
   "metadata": {},
   "outputs": [],
   "source": []
  },
  {
   "cell_type": "code",
   "execution_count": 405,
   "metadata": {},
   "outputs": [
    {
     "name": "stdout",
     "output_type": "stream",
     "text": [
      "F1 on test:  0.9285714285714286\n",
      "F1 on train:  0.9281045751633986\n"
     ]
    },
    {
     "name": "stderr",
     "output_type": "stream",
     "text": [
      "/Users/admin/anaconda3/lib/python3.6/site-packages/ipykernel_launcher.py:2: DataConversionWarning: A column-vector y was passed when a 1d array was expected. Please change the shape of y to (n_samples, ), for example using ravel().\n",
      "  \n"
     ]
    }
   ],
   "source": [
    "knn = KNeighborsClassifier()\n",
    "knn.fit(x_train, y_train)\n",
    "knn_pred = knn.predict(x_test)\n",
    "knn_pred_tr = knn.predict(x_train)\n",
    "\n",
    "print('F1 on test: ', f1_score(y_true=y_test, y_pred=knn_pred))\n",
    "print('F1 on train: ', f1_score(y_true=y_train, y_pred=knn_pred_tr))"
   ]
  },
  {
   "cell_type": "code",
   "execution_count": null,
   "metadata": {},
   "outputs": [],
   "source": []
  },
  {
   "cell_type": "code",
   "execution_count": null,
   "metadata": {},
   "outputs": [],
   "source": []
  }
 ],
 "metadata": {
  "kernelspec": {
   "display_name": "Python 3",
   "language": "python",
   "name": "python3"
  },
  "language_info": {
   "codemirror_mode": {
    "name": "ipython",
    "version": 3
   },
   "file_extension": ".py",
   "mimetype": "text/x-python",
   "name": "python",
   "nbconvert_exporter": "python",
   "pygments_lexer": "ipython3",
   "version": "3.6.3"
  }
 },
 "nbformat": 4,
 "nbformat_minor": 2
}
